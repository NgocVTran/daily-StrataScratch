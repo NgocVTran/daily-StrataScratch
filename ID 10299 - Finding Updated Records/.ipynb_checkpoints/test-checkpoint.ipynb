{
 "cells": [
  {
   "cell_type": "markdown",
   "metadata": {},
   "source": [
    "Easy\n",
    "Amazon\n",
    "Interview QuestionsID 10183\n",
    "Interview Question Date: Jul 2020\n",
    "Total Cost Of Orders\n",
    "Find the total cost of each customer's orders. Output customer's id, first name, and the total order cost. Order records by customer's first name alphabetically.\n",
    "DataFrames: customers, orders\n",
    "Expected Output Type: pandas.Series\n",
    "customers\n",
    "id\n",
    "int64\n",
    "first_name\n",
    "object\n",
    "last_name\n",
    "object\n",
    "city\n",
    "object\n",
    "address\n",
    "object\n",
    "phone_number\n",
    "object\n",
    "orders\n",
    "id\n",
    "int64\n",
    "cust_id\n",
    "int64\n",
    "order_date\n",
    "datetime64[ns]\n",
    "order_quantity\n",
    "int64\n",
    "order_details\n",
    "object\n",
    "order_cost\n",
    "int64\n"
   ]
  },
  {
   "cell_type": "code",
   "execution_count": null,
   "metadata": {},
   "outputs": [],
   "source": [
    "# Import your libraries\n",
    "import pandas as pd\n",
    "\n",
    "# Start writing code\n",
    "ms_employee_salary.head()\n",
    "\n",
    "result = ms_employee_salary.groupby([\"id\", \"first_name\", \"last_name\", \n",
    "        \"department_id\"])[\"salary\"].max().reset_index().sort_values(\"id\")\n"
   ]
  },
  {
   "cell_type": "code",
   "execution_count": null,
   "metadata": {},
   "outputs": [],
   "source": [
    "# postgresql\n",
    "select id, first_name, last_name, max(salary), department_id\n",
    "from ms_employee_salary\n",
    "group by id, first_name, last_name, department_id\n",
    "order by id\n",
    ";"
   ]
  },
  {
   "cell_type": "code",
   "execution_count": null,
   "metadata": {},
   "outputs": [],
   "source": []
  },
  {
   "cell_type": "code",
   "execution_count": null,
   "metadata": {},
   "outputs": [],
   "source": []
  },
  {
   "cell_type": "code",
   "execution_count": null,
   "metadata": {},
   "outputs": [],
   "source": []
  },
  {
   "cell_type": "code",
   "execution_count": null,
   "metadata": {},
   "outputs": [],
   "source": []
  }
 ],
 "metadata": {
  "kernelspec": {
   "display_name": "Python 3",
   "language": "python",
   "name": "python3"
  },
  "language_info": {
   "codemirror_mode": {
    "name": "ipython",
    "version": 3
   },
   "file_extension": ".py",
   "mimetype": "text/x-python",
   "name": "python",
   "nbconvert_exporter": "python",
   "pygments_lexer": "ipython3",
   "version": "3.7.5"
  }
 },
 "nbformat": 4,
 "nbformat_minor": 4
}
