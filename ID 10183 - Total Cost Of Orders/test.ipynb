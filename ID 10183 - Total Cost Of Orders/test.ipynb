{
 "cells": [
  {
   "cell_type": "markdown",
   "metadata": {},
   "source": [
    "Find the total cost of each customer's orders. Output customer's id, first name, and the total order cost. Order records by customer's first name alphabetically.\n",
    "DataFrames: customers, orders\n",
    "Expected Output Type: pandas.Series\n",
    "customers\n",
    "id\n",
    "int64\n",
    "first_name\n",
    "object\n",
    "last_name\n",
    "object\n",
    "city\n",
    "object\n",
    "address\n",
    "object\n",
    "phone_number\n",
    "object\n",
    "orders\n",
    "id\n",
    "int64\n",
    "cust_id\n",
    "int64\n",
    "order_date\n",
    "datetime64[ns]\n",
    "order_quantity\n",
    "int64\n",
    "order_details\n",
    "object\n",
    "order_cost\n",
    "int64\n"
   ]
  },
  {
   "cell_type": "code",
   "execution_count": null,
   "metadata": {},
   "outputs": [],
   "source": [
    "# python\n",
    "df = pd.merge(customers, orders, left_on=\"id\", right_on=\"cust_id\")\\\n",
    "        .groupby([\"cust_id\", \"first_name\"])[\"order_cost\"].sum().reset_index()\\\n",
    "        .sort_values(by=\"first_name\", ascending=True)"
   ]
  },
  {
   "cell_type": "code",
   "execution_count": null,
   "metadata": {},
   "outputs": [],
   "source": []
  },
  {
   "cell_type": "code",
   "execution_count": null,
   "metadata": {},
   "outputs": [],
   "source": [
    "# postgresql 1\n",
    "select summary.id, summary.first_name, sum(summary.order_cost)\n",
    "from\n",
    "    (select c.id, o.order_cost, c.first_name\n",
    "    from customers c, orders o\n",
    "    where c.id = o.cust_id) as summary\n",
    "group by summary.id, summary.first_name\n",
    "order by summary.first_name\n",
    ";"
   ]
  },
  {
   "cell_type": "code",
   "execution_count": null,
   "metadata": {},
   "outputs": [],
   "source": [
    "# postgresql 2\n",
    "select c.id,\n",
    "    c.first_name,\n",
    "    sum(o.order_cost)\n",
    "from orders o, customers c\n",
    "where c.id = o.cust_id\n",
    "group by c.id, c.first_name\n",
    "order by c.first_name asc\n",
    ";"
   ]
  },
  {
   "cell_type": "code",
   "execution_count": null,
   "metadata": {},
   "outputs": [],
   "source": [
    "# postgresql solution\n",
    "SELECT customers.id,\n",
    "       customers.first_name,\n",
    "       SUM(order_cost)\n",
    "FROM orders\n",
    "JOIN customers ON customers.id = orders.cust_id\n",
    "GROUP BY customers.id, customers.first_name\n",
    "ORDER BY customers.first_name ASC;"
   ]
  },
  {
   "cell_type": "code",
   "execution_count": null,
   "metadata": {},
   "outputs": [],
   "source": []
  },
  {
   "cell_type": "code",
   "execution_count": null,
   "metadata": {},
   "outputs": [],
   "source": []
  },
  {
   "cell_type": "code",
   "execution_count": null,
   "metadata": {},
   "outputs": [],
   "source": []
  }
 ],
 "metadata": {
  "kernelspec": {
   "display_name": "Python 3",
   "language": "python",
   "name": "python3"
  },
  "language_info": {
   "codemirror_mode": {
    "name": "ipython",
    "version": 3
   },
   "file_extension": ".py",
   "mimetype": "text/x-python",
   "name": "python",
   "nbconvert_exporter": "python",
   "pygments_lexer": "ipython3",
   "version": "3.7.5"
  }
 },
 "nbformat": 4,
 "nbformat_minor": 4
}
