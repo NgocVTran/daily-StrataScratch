{
 "cells": [
  {
   "cell_type": "markdown",
   "metadata": {},
   "source": [
    "Easy\n",
    "Dropbox\n",
    "Interview QuestionsID 10308\n",
    "Interview Question Date: Nov 2020\n",
    "Salaries Differences\n",
    "\n",
    "\n",
    "Write a query that calculates the difference between the highest salaries found in the marketing and engineering departments. Output just the difference in salaries.\n",
    "\n",
    "\n",
    "DataFrames: db_employee, db_dept\n",
    "Expected Output Type: pandas.DataFrame\n",
    "\n",
    "\n",
    "db_employee\n",
    "id\n",
    "int64\n",
    "first_name\n",
    "object\n",
    "last_name\n",
    "object\n",
    "salary\n",
    "int64\n",
    "department_id\n",
    "int64\n",
    "\n",
    "\n",
    "db_dept\n",
    "id\n",
    "int64\n",
    "department\n",
    "object\n"
   ]
  },
  {
   "cell_type": "code",
   "execution_count": null,
   "metadata": {},
   "outputs": [],
   "source": [
    "# Import your libraries\n",
    "import pandas as pd\n",
    "\n",
    "# Start writing code\n",
    "max_marketing = max(db_employee[db_employee[\"department_id\"] == 4][\"salary\"])\n",
    "max_engineer = max(db_employee[db_employee[\"department_id\"] == 1][\"salary\"])\n",
    "\n",
    "# db_employee.head()\n",
    "# db_dept.head()\n",
    "abs(int(max_marketing) - int(max_engineer))"
   ]
  },
  {
   "cell_type": "code",
   "execution_count": null,
   "metadata": {},
   "outputs": [],
   "source": []
  },
  {
   "cell_type": "code",
   "execution_count": null,
   "metadata": {},
   "outputs": [],
   "source": [
    "# Python\n",
    "import pandas as pd\n",
    "import numpy as np\n",
    "\n",
    "df = pd.merge(db_employee, db_dept, how = 'left',left_on = ['department_id'], right_on=['id'])\n",
    "\n",
    "df1 = df[df[\"department\"]=='engineering']\n",
    "df_eng = df1.groupby('department')['salary'].max().reset_index(name='eng_salary')\n",
    "\n",
    "df2 = df[df[\"department\"]=='marketing']\n",
    "df_mkt = df2.groupby('department')['salary'].max().reset_index(name='mkt_salary')\n",
    "\n",
    "result = pd.DataFrame(df_mkt['mkt_salary'] - df_eng['eng_salary'])\n",
    "result.columns = ['salary_difference']\n",
    "result"
   ]
  },
  {
   "cell_type": "code",
   "execution_count": null,
   "metadata": {},
   "outputs": [],
   "source": []
  },
  {
   "cell_type": "code",
   "execution_count": null,
   "metadata": {},
   "outputs": [],
   "source": [
    "# PostgreSQL\n",
    "# select\n",
    "#     (select max(e.salary)\n",
    "#     from db_employee e, db_dept d\n",
    "#     where e.department_id = d.id\n",
    "#     and d.id = 4)\n",
    "#     - \n",
    "#     (select max(e.salary)\n",
    "#     from db_employee e, db_dept d\n",
    "#     where e.department_id = d.id\n",
    "#     and d.id = 1)\n",
    "# as \"salary differences\""
   ]
  }
 ],
 "metadata": {
  "kernelspec": {
   "display_name": "Python 3",
   "language": "python",
   "name": "python3"
  },
  "language_info": {
   "codemirror_mode": {
    "name": "ipython",
    "version": 3
   },
   "file_extension": ".py",
   "mimetype": "text/x-python",
   "name": "python",
   "nbconvert_exporter": "python",
   "pygments_lexer": "ipython3",
   "version": "3.7.5"
  }
 },
 "nbformat": 4,
 "nbformat_minor": 4
}
